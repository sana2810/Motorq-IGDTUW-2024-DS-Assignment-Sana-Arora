{
 "cells": [
  {
   "cell_type": "code",
   "execution_count": 200,
   "id": "60e0cadb",
   "metadata": {},
   "outputs": [],
   "source": [
    "#importing python libraries\n",
    "import pandas as pd\n",
    "import numpy as np\n",
    "import matplotlib.pyplot as plt"
   ]
  },
  {
   "cell_type": "code",
   "execution_count": 201,
   "id": "f45a2a9a",
   "metadata": {},
   "outputs": [],
   "source": [
    "#importing dataset\n",
    "telemetry1=pd.read_csv('telemetry_1.csv')\n",
    "telemetry2=pd.read_csv('telemetry_2.csv')\n",
    "vehicle_data=pd.read_csv('vehicle_data.csv')"
   ]
  },
  {
   "cell_type": "code",
   "execution_count": 202,
   "id": "e2827b31",
   "metadata": {},
   "outputs": [
    {
     "data": {
      "text/html": [
       "<div>\n",
       "<style scoped>\n",
       "    .dataframe tbody tr th:only-of-type {\n",
       "        vertical-align: middle;\n",
       "    }\n",
       "\n",
       "    .dataframe tbody tr th {\n",
       "        vertical-align: top;\n",
       "    }\n",
       "\n",
       "    .dataframe thead th {\n",
       "        text-align: right;\n",
       "    }\n",
       "</style>\n",
       "<table border=\"1\" class=\"dataframe\">\n",
       "  <thead>\n",
       "    <tr style=\"text-align: right;\">\n",
       "      <th></th>\n",
       "      <th>vehicle_id</th>\n",
       "      <th>timestamp</th>\n",
       "      <th>speed</th>\n",
       "      <th>odometer</th>\n",
       "      <th>fuel_level</th>\n",
       "    </tr>\n",
       "  </thead>\n",
       "  <tbody>\n",
       "    <tr>\n",
       "      <th>0</th>\n",
       "      <td>vehicle_4</td>\n",
       "      <td>2024-06-06 14:26:23-07:00</td>\n",
       "      <td>64.2</td>\n",
       "      <td>NaN</td>\n",
       "      <td>NaN</td>\n",
       "    </tr>\n",
       "    <tr>\n",
       "      <th>1</th>\n",
       "      <td>vehicle_8</td>\n",
       "      <td>2024-07-05 22:24:12.856000-07:00</td>\n",
       "      <td>1.6</td>\n",
       "      <td>12048.0</td>\n",
       "      <td>NaN</td>\n",
       "    </tr>\n",
       "    <tr>\n",
       "      <th>2</th>\n",
       "      <td>vehicle_3</td>\n",
       "      <td>2024-06-20 12:57:59.306000-07:00</td>\n",
       "      <td>NaN</td>\n",
       "      <td>NaN</td>\n",
       "      <td>45.0</td>\n",
       "    </tr>\n",
       "    <tr>\n",
       "      <th>3</th>\n",
       "      <td>vehicle_10</td>\n",
       "      <td>2024-07-24 18:04:23.776000-07:00</td>\n",
       "      <td>36.2</td>\n",
       "      <td>1434.7</td>\n",
       "      <td>NaN</td>\n",
       "    </tr>\n",
       "    <tr>\n",
       "      <th>4</th>\n",
       "      <td>vehicle_11</td>\n",
       "      <td>2024-07-06 11:08:03-07:00</td>\n",
       "      <td>29.5</td>\n",
       "      <td>NaN</td>\n",
       "      <td>NaN</td>\n",
       "    </tr>\n",
       "  </tbody>\n",
       "</table>\n",
       "</div>"
      ],
      "text/plain": [
       "   vehicle_id                         timestamp  speed  odometer  fuel_level\n",
       "0   vehicle_4         2024-06-06 14:26:23-07:00   64.2       NaN         NaN\n",
       "1   vehicle_8  2024-07-05 22:24:12.856000-07:00    1.6   12048.0         NaN\n",
       "2   vehicle_3  2024-06-20 12:57:59.306000-07:00    NaN       NaN        45.0\n",
       "3  vehicle_10  2024-07-24 18:04:23.776000-07:00   36.2    1434.7         NaN\n",
       "4  vehicle_11         2024-07-06 11:08:03-07:00   29.5       NaN         NaN"
      ]
     },
     "execution_count": 202,
     "metadata": {},
     "output_type": "execute_result"
    }
   ],
   "source": [
    "telemetry1.head()"
   ]
  },
  {
   "cell_type": "code",
   "execution_count": 203,
   "id": "311081dc",
   "metadata": {},
   "outputs": [
    {
     "data": {
      "text/html": [
       "<div>\n",
       "<style scoped>\n",
       "    .dataframe tbody tr th:only-of-type {\n",
       "        vertical-align: middle;\n",
       "    }\n",
       "\n",
       "    .dataframe tbody tr th {\n",
       "        vertical-align: top;\n",
       "    }\n",
       "\n",
       "    .dataframe thead th {\n",
       "        text-align: right;\n",
       "    }\n",
       "</style>\n",
       "<table border=\"1\" class=\"dataframe\">\n",
       "  <thead>\n",
       "    <tr style=\"text-align: right;\">\n",
       "      <th></th>\n",
       "      <th>vehicle_id</th>\n",
       "      <th>timestamp</th>\n",
       "      <th>val</th>\n",
       "      <th>name</th>\n",
       "    </tr>\n",
       "  </thead>\n",
       "  <tbody>\n",
       "    <tr>\n",
       "      <th>0</th>\n",
       "      <td>vehicle_4</td>\n",
       "      <td>2024-07-23 19:56:44+05:30</td>\n",
       "      <td>0.0</td>\n",
       "      <td>speed</td>\n",
       "    </tr>\n",
       "    <tr>\n",
       "      <th>1</th>\n",
       "      <td>vehicle_11</td>\n",
       "      <td>2024-04-04 22:33:56+05:30</td>\n",
       "      <td>52.7</td>\n",
       "      <td>speed</td>\n",
       "    </tr>\n",
       "    <tr>\n",
       "      <th>2</th>\n",
       "      <td>vehicle_3</td>\n",
       "      <td>2024-07-18 23:30:04.027000+05:30</td>\n",
       "      <td>5.8</td>\n",
       "      <td>speed</td>\n",
       "    </tr>\n",
       "    <tr>\n",
       "      <th>3</th>\n",
       "      <td>vehicle_3</td>\n",
       "      <td>2024-05-22 00:49:49.402000+05:30</td>\n",
       "      <td>34.4</td>\n",
       "      <td>speed</td>\n",
       "    </tr>\n",
       "    <tr>\n",
       "      <th>4</th>\n",
       "      <td>vehicle_10</td>\n",
       "      <td>2024-07-16 05:48:11.710000+05:30</td>\n",
       "      <td>42.8</td>\n",
       "      <td>speed</td>\n",
       "    </tr>\n",
       "  </tbody>\n",
       "</table>\n",
       "</div>"
      ],
      "text/plain": [
       "   vehicle_id                         timestamp   val   name\n",
       "0   vehicle_4         2024-07-23 19:56:44+05:30   0.0  speed\n",
       "1  vehicle_11         2024-04-04 22:33:56+05:30  52.7  speed\n",
       "2   vehicle_3  2024-07-18 23:30:04.027000+05:30   5.8  speed\n",
       "3   vehicle_3  2024-05-22 00:49:49.402000+05:30  34.4  speed\n",
       "4  vehicle_10  2024-07-16 05:48:11.710000+05:30  42.8  speed"
      ]
     },
     "execution_count": 203,
     "metadata": {},
     "output_type": "execute_result"
    }
   ],
   "source": [
    "telemetry2.head()"
   ]
  },
  {
   "cell_type": "code",
   "execution_count": 204,
   "id": "9d86e51f",
   "metadata": {},
   "outputs": [
    {
     "data": {
      "text/plain": [
       "vehicle_id    0\n",
       "timestamp     0\n",
       "val           0\n",
       "name          0\n",
       "dtype: int64"
      ]
     },
     "execution_count": 204,
     "metadata": {},
     "output_type": "execute_result"
    }
   ],
   "source": [
    "telemetry2.isna().sum()"
   ]
  },
  {
   "cell_type": "code",
   "execution_count": 205,
   "id": "0f651d84",
   "metadata": {},
   "outputs": [
    {
     "name": "stdout",
     "output_type": "stream",
     "text": [
      "shape of telementry 1: (408670, 5)\n",
      "shape of telementry 2: (425893, 4)\n"
     ]
    }
   ],
   "source": [
    "#finding the shape of both the dataframes\n",
    "shape1=telemetry1.shape\n",
    "shape2=telemetry2.shape\n",
    "print('shape of telementry 1:',shape1)\n",
    "print('shape of telementry 2:',shape2)"
   ]
  },
  {
   "cell_type": "code",
   "execution_count": 206,
   "id": "73ecf959",
   "metadata": {},
   "outputs": [
    {
     "data": {
      "text/plain": [
       "array(['fuel_level', 'odometer', 'speed'], dtype=object)"
      ]
     },
     "execution_count": 206,
     "metadata": {},
     "output_type": "execute_result"
    }
   ],
   "source": [
    "np.unique(telemetry2['name'])"
   ]
  },
  {
   "cell_type": "code",
   "execution_count": 207,
   "id": "6444afcf",
   "metadata": {},
   "outputs": [
    {
     "name": "stdout",
     "output_type": "stream",
     "text": [
      "        vehicle_id                         timestamp  speed  odometer  \\\n",
      "0        vehicle_4         2024-06-06 14:26:23-07:00   64.2       NaN   \n",
      "1        vehicle_8  2024-07-05 22:24:12.856000-07:00    1.6   12048.0   \n",
      "2        vehicle_3  2024-06-20 12:57:59.306000-07:00    NaN       NaN   \n",
      "3       vehicle_10  2024-07-24 18:04:23.776000-07:00   36.2    1434.7   \n",
      "4       vehicle_11         2024-07-06 11:08:03-07:00   29.5       NaN   \n",
      "...            ...                               ...    ...       ...   \n",
      "834558   vehicle_3  2024-07-06 20:43:40.007000+05:30    NaN       NaN   \n",
      "834559  vehicle_10  2024-07-19 02:32:34.694000+05:30    NaN       NaN   \n",
      "834560   vehicle_4         2024-06-07 05:27:52+05:30    NaN       NaN   \n",
      "834561   vehicle_4         2024-06-20 23:58:11+05:30    NaN       NaN   \n",
      "834562   vehicle_3  2024-06-12 00:20:54.398000+05:30    NaN       NaN   \n",
      "\n",
      "        fuel_level  \n",
      "0              NaN  \n",
      "1              NaN  \n",
      "2             45.0  \n",
      "3              NaN  \n",
      "4              NaN  \n",
      "...            ...  \n",
      "834558        12.0  \n",
      "834559        63.0  \n",
      "834560        51.0  \n",
      "834561        33.0  \n",
      "834562        98.0  \n",
      "\n",
      "[834563 rows x 5 columns]\n"
     ]
    }
   ],
   "source": [
    "import sqlite3\n",
    "import pandas as pd\n",
    "\n",
    "# Create an in-memory SQLite database\n",
    "conn = sqlite3.connect(':memory:')\n",
    "\n",
    "# Write the DataFrames to SQL tables\n",
    "telemetry1.to_sql('telemetry1', conn, index=False, if_exists='replace')\n",
    "telemetry2.to_sql('telemetry2', conn, index=False, if_exists='replace')\n",
    "\n",
    "# SQL query to union the tables with intact column names\n",
    "query = '''\n",
    "    SELECT\n",
    "        vehicle_id,\n",
    "        timestamp,\n",
    "        speed,\n",
    "        odometer,\n",
    "        fuel_level\n",
    "    FROM telemetry1\n",
    "\n",
    "    UNION ALL\n",
    "\n",
    "    SELECT\n",
    "        vehicle_id,\n",
    "        timestamp,\n",
    "        CASE WHEN name = 'speed' THEN val ELSE NULL END AS speed,\n",
    "        CASE WHEN name = 'odometer' THEN val ELSE NULL END AS odometer,\n",
    "        CASE WHEN name = 'fuel_level' THEN val ELSE NULL END AS fuel_level\n",
    "    FROM telemetry2;\n",
    "'''\n",
    "\n",
    "# Execute the query and load the result into a DataFrame\n",
    "telemetry = pd.read_sql_query(query, conn)\n",
    "\n",
    "# Close the connection\n",
    "conn.close()\n",
    "\n",
    "print(telemetry)\n"
   ]
  },
  {
   "cell_type": "code",
   "execution_count": 208,
   "id": "43f09ada",
   "metadata": {},
   "outputs": [
    {
     "data": {
      "text/html": [
       "<div>\n",
       "<style scoped>\n",
       "    .dataframe tbody tr th:only-of-type {\n",
       "        vertical-align: middle;\n",
       "    }\n",
       "\n",
       "    .dataframe tbody tr th {\n",
       "        vertical-align: top;\n",
       "    }\n",
       "\n",
       "    .dataframe thead th {\n",
       "        text-align: right;\n",
       "    }\n",
       "</style>\n",
       "<table border=\"1\" class=\"dataframe\">\n",
       "  <thead>\n",
       "    <tr style=\"text-align: right;\">\n",
       "      <th></th>\n",
       "      <th>vehicle_id</th>\n",
       "      <th>timestamp</th>\n",
       "      <th>speed</th>\n",
       "      <th>odometer</th>\n",
       "      <th>fuel_level</th>\n",
       "    </tr>\n",
       "  </thead>\n",
       "  <tbody>\n",
       "    <tr>\n",
       "      <th>0</th>\n",
       "      <td>vehicle_4</td>\n",
       "      <td>2024-06-06 14:26:23-07:00</td>\n",
       "      <td>64.2</td>\n",
       "      <td>NaN</td>\n",
       "      <td>NaN</td>\n",
       "    </tr>\n",
       "    <tr>\n",
       "      <th>1</th>\n",
       "      <td>vehicle_8</td>\n",
       "      <td>2024-07-05 22:24:12.856000-07:00</td>\n",
       "      <td>1.6</td>\n",
       "      <td>12048.0</td>\n",
       "      <td>NaN</td>\n",
       "    </tr>\n",
       "    <tr>\n",
       "      <th>2</th>\n",
       "      <td>vehicle_3</td>\n",
       "      <td>2024-06-20 12:57:59.306000-07:00</td>\n",
       "      <td>NaN</td>\n",
       "      <td>NaN</td>\n",
       "      <td>45.0</td>\n",
       "    </tr>\n",
       "    <tr>\n",
       "      <th>3</th>\n",
       "      <td>vehicle_10</td>\n",
       "      <td>2024-07-24 18:04:23.776000-07:00</td>\n",
       "      <td>36.2</td>\n",
       "      <td>1434.7</td>\n",
       "      <td>NaN</td>\n",
       "    </tr>\n",
       "    <tr>\n",
       "      <th>4</th>\n",
       "      <td>vehicle_11</td>\n",
       "      <td>2024-07-06 11:08:03-07:00</td>\n",
       "      <td>29.5</td>\n",
       "      <td>NaN</td>\n",
       "      <td>NaN</td>\n",
       "    </tr>\n",
       "  </tbody>\n",
       "</table>\n",
       "</div>"
      ],
      "text/plain": [
       "   vehicle_id                         timestamp  speed  odometer  fuel_level\n",
       "0   vehicle_4         2024-06-06 14:26:23-07:00   64.2       NaN         NaN\n",
       "1   vehicle_8  2024-07-05 22:24:12.856000-07:00    1.6   12048.0         NaN\n",
       "2   vehicle_3  2024-06-20 12:57:59.306000-07:00    NaN       NaN        45.0\n",
       "3  vehicle_10  2024-07-24 18:04:23.776000-07:00   36.2    1434.7         NaN\n",
       "4  vehicle_11         2024-07-06 11:08:03-07:00   29.5       NaN         NaN"
      ]
     },
     "execution_count": 208,
     "metadata": {},
     "output_type": "execute_result"
    }
   ],
   "source": [
    "telemetry.head()"
   ]
  },
  {
   "cell_type": "code",
   "execution_count": 209,
   "id": "09e09dea",
   "metadata": {},
   "outputs": [
    {
     "name": "stdout",
     "output_type": "stream",
     "text": [
      "shape of telementry 1: (408670, 5)\n",
      "shape of telementry 2: (425893, 4)\n",
      "shape of resultant dataframe: (834563, 5)\n",
      "True\n"
     ]
    }
   ],
   "source": [
    "shape1=telemetry1.shape\n",
    "shape2=telemetry2.shape\n",
    "shape3=telemetry.shape\n",
    "print('shape of telementry 1:',shape1)\n",
    "print('shape of telementry 2:',shape2)\n",
    "print('shape of resultant dataframe:',shape3)\n",
    "print(shape1[0]+shape2[0]==shape3[0])"
   ]
  },
  {
   "cell_type": "code",
   "execution_count": 210,
   "id": "2107a81f",
   "metadata": {},
   "outputs": [
    {
     "data": {
      "text/plain": [
       "vehicle_id         0\n",
       "timestamp          0\n",
       "speed         383191\n",
       "odometer      380997\n",
       "fuel_level    673403\n",
       "dtype: int64"
      ]
     },
     "execution_count": 210,
     "metadata": {},
     "output_type": "execute_result"
    }
   ],
   "source": [
    "#to count the number of null values present in the given data in each column\n",
    "telemetry.isna().sum()"
   ]
  },
  {
   "cell_type": "code",
   "execution_count": 211,
   "id": "f9970b16",
   "metadata": {},
   "outputs": [
    {
     "data": {
      "text/html": [
       "<div>\n",
       "<style scoped>\n",
       "    .dataframe tbody tr th:only-of-type {\n",
       "        vertical-align: middle;\n",
       "    }\n",
       "\n",
       "    .dataframe tbody tr th {\n",
       "        vertical-align: top;\n",
       "    }\n",
       "\n",
       "    .dataframe thead th {\n",
       "        text-align: right;\n",
       "    }\n",
       "</style>\n",
       "<table border=\"1\" class=\"dataframe\">\n",
       "  <thead>\n",
       "    <tr style=\"text-align: right;\">\n",
       "      <th></th>\n",
       "      <th>vehicle_id</th>\n",
       "      <th>timestamp</th>\n",
       "      <th>speed</th>\n",
       "      <th>odometer</th>\n",
       "      <th>fuel_level</th>\n",
       "    </tr>\n",
       "  </thead>\n",
       "  <tbody>\n",
       "    <tr>\n",
       "      <th>0</th>\n",
       "      <td>vehicle_4</td>\n",
       "      <td>2024-06-06 14:26:23-07:00</td>\n",
       "      <td>64.2</td>\n",
       "      <td>4583.9</td>\n",
       "      <td>73.0</td>\n",
       "    </tr>\n",
       "    <tr>\n",
       "      <th>1</th>\n",
       "      <td>vehicle_8</td>\n",
       "      <td>2024-07-05 22:24:12.856000-07:00</td>\n",
       "      <td>1.6</td>\n",
       "      <td>12048.0</td>\n",
       "      <td>73.0</td>\n",
       "    </tr>\n",
       "    <tr>\n",
       "      <th>2</th>\n",
       "      <td>vehicle_3</td>\n",
       "      <td>2024-06-20 12:57:59.306000-07:00</td>\n",
       "      <td>25.0</td>\n",
       "      <td>4583.9</td>\n",
       "      <td>45.0</td>\n",
       "    </tr>\n",
       "    <tr>\n",
       "      <th>3</th>\n",
       "      <td>vehicle_10</td>\n",
       "      <td>2024-07-24 18:04:23.776000-07:00</td>\n",
       "      <td>36.2</td>\n",
       "      <td>1434.7</td>\n",
       "      <td>73.0</td>\n",
       "    </tr>\n",
       "    <tr>\n",
       "      <th>4</th>\n",
       "      <td>vehicle_11</td>\n",
       "      <td>2024-07-06 11:08:03-07:00</td>\n",
       "      <td>29.5</td>\n",
       "      <td>4583.9</td>\n",
       "      <td>73.0</td>\n",
       "    </tr>\n",
       "    <tr>\n",
       "      <th>...</th>\n",
       "      <td>...</td>\n",
       "      <td>...</td>\n",
       "      <td>...</td>\n",
       "      <td>...</td>\n",
       "      <td>...</td>\n",
       "    </tr>\n",
       "    <tr>\n",
       "      <th>834558</th>\n",
       "      <td>vehicle_3</td>\n",
       "      <td>2024-07-06 20:43:40.007000+05:30</td>\n",
       "      <td>25.0</td>\n",
       "      <td>4583.9</td>\n",
       "      <td>12.0</td>\n",
       "    </tr>\n",
       "    <tr>\n",
       "      <th>834559</th>\n",
       "      <td>vehicle_10</td>\n",
       "      <td>2024-07-19 02:32:34.694000+05:30</td>\n",
       "      <td>25.0</td>\n",
       "      <td>4583.9</td>\n",
       "      <td>63.0</td>\n",
       "    </tr>\n",
       "    <tr>\n",
       "      <th>834560</th>\n",
       "      <td>vehicle_4</td>\n",
       "      <td>2024-06-07 05:27:52+05:30</td>\n",
       "      <td>25.0</td>\n",
       "      <td>4583.9</td>\n",
       "      <td>51.0</td>\n",
       "    </tr>\n",
       "    <tr>\n",
       "      <th>834561</th>\n",
       "      <td>vehicle_4</td>\n",
       "      <td>2024-06-20 23:58:11+05:30</td>\n",
       "      <td>25.0</td>\n",
       "      <td>4583.9</td>\n",
       "      <td>33.0</td>\n",
       "    </tr>\n",
       "    <tr>\n",
       "      <th>834562</th>\n",
       "      <td>vehicle_3</td>\n",
       "      <td>2024-06-12 00:20:54.398000+05:30</td>\n",
       "      <td>25.0</td>\n",
       "      <td>4583.9</td>\n",
       "      <td>98.0</td>\n",
       "    </tr>\n",
       "  </tbody>\n",
       "</table>\n",
       "<p>834563 rows × 5 columns</p>\n",
       "</div>"
      ],
      "text/plain": [
       "        vehicle_id                         timestamp  speed  odometer  \\\n",
       "0        vehicle_4         2024-06-06 14:26:23-07:00   64.2    4583.9   \n",
       "1        vehicle_8  2024-07-05 22:24:12.856000-07:00    1.6   12048.0   \n",
       "2        vehicle_3  2024-06-20 12:57:59.306000-07:00   25.0    4583.9   \n",
       "3       vehicle_10  2024-07-24 18:04:23.776000-07:00   36.2    1434.7   \n",
       "4       vehicle_11         2024-07-06 11:08:03-07:00   29.5    4583.9   \n",
       "...            ...                               ...    ...       ...   \n",
       "834558   vehicle_3  2024-07-06 20:43:40.007000+05:30   25.0    4583.9   \n",
       "834559  vehicle_10  2024-07-19 02:32:34.694000+05:30   25.0    4583.9   \n",
       "834560   vehicle_4         2024-06-07 05:27:52+05:30   25.0    4583.9   \n",
       "834561   vehicle_4         2024-06-20 23:58:11+05:30   25.0    4583.9   \n",
       "834562   vehicle_3  2024-06-12 00:20:54.398000+05:30   25.0    4583.9   \n",
       "\n",
       "        fuel_level  \n",
       "0             73.0  \n",
       "1             73.0  \n",
       "2             45.0  \n",
       "3             73.0  \n",
       "4             73.0  \n",
       "...            ...  \n",
       "834558        12.0  \n",
       "834559        63.0  \n",
       "834560        51.0  \n",
       "834561        33.0  \n",
       "834562        98.0  \n",
       "\n",
       "[834563 rows x 5 columns]"
      ]
     },
     "execution_count": 211,
     "metadata": {},
     "output_type": "execute_result"
    }
   ],
   "source": [
    "median_value = telemetry['speed'].median()\n",
    "telemetry['speed'].fillna(median_value, inplace=True)\n",
    "median_value = telemetry['odometer'].median()\n",
    "telemetry['odometer'].fillna(median_value, inplace=True)\n",
    "median_value = telemetry['fuel_level'].median()\n",
    "telemetry['fuel_level'].fillna(median_value, inplace=True)\n",
    "telemetry"
   ]
  },
  {
   "cell_type": "code",
   "execution_count": 212,
   "id": "f84a3602",
   "metadata": {},
   "outputs": [
    {
     "data": {
      "text/html": [
       "<div>\n",
       "<style scoped>\n",
       "    .dataframe tbody tr th:only-of-type {\n",
       "        vertical-align: middle;\n",
       "    }\n",
       "\n",
       "    .dataframe tbody tr th {\n",
       "        vertical-align: top;\n",
       "    }\n",
       "\n",
       "    .dataframe thead th {\n",
       "        text-align: right;\n",
       "    }\n",
       "</style>\n",
       "<table border=\"1\" class=\"dataframe\">\n",
       "  <thead>\n",
       "    <tr style=\"text-align: right;\">\n",
       "      <th></th>\n",
       "      <th>vehicle_id</th>\n",
       "      <th>timestamp</th>\n",
       "      <th>speed</th>\n",
       "      <th>odometer</th>\n",
       "      <th>fuel_level</th>\n",
       "    </tr>\n",
       "  </thead>\n",
       "  <tbody>\n",
       "    <tr>\n",
       "      <th>0</th>\n",
       "      <td>vehicle_4</td>\n",
       "      <td>2024-06-06 14:26:23-07:00</td>\n",
       "      <td>64.2</td>\n",
       "      <td>4583.9</td>\n",
       "      <td>73.0</td>\n",
       "    </tr>\n",
       "    <tr>\n",
       "      <th>1</th>\n",
       "      <td>vehicle_8</td>\n",
       "      <td>2024-07-05 22:24:12.856000-07:00</td>\n",
       "      <td>1.6</td>\n",
       "      <td>12048.0</td>\n",
       "      <td>73.0</td>\n",
       "    </tr>\n",
       "    <tr>\n",
       "      <th>2</th>\n",
       "      <td>vehicle_3</td>\n",
       "      <td>2024-06-20 12:57:59.306000-07:00</td>\n",
       "      <td>25.0</td>\n",
       "      <td>4583.9</td>\n",
       "      <td>45.0</td>\n",
       "    </tr>\n",
       "    <tr>\n",
       "      <th>3</th>\n",
       "      <td>vehicle_10</td>\n",
       "      <td>2024-07-24 18:04:23.776000-07:00</td>\n",
       "      <td>36.2</td>\n",
       "      <td>1434.7</td>\n",
       "      <td>73.0</td>\n",
       "    </tr>\n",
       "    <tr>\n",
       "      <th>4</th>\n",
       "      <td>vehicle_11</td>\n",
       "      <td>2024-07-06 11:08:03-07:00</td>\n",
       "      <td>29.5</td>\n",
       "      <td>4583.9</td>\n",
       "      <td>73.0</td>\n",
       "    </tr>\n",
       "  </tbody>\n",
       "</table>\n",
       "</div>"
      ],
      "text/plain": [
       "   vehicle_id                         timestamp  speed  odometer  fuel_level\n",
       "0   vehicle_4         2024-06-06 14:26:23-07:00   64.2    4583.9        73.0\n",
       "1   vehicle_8  2024-07-05 22:24:12.856000-07:00    1.6   12048.0        73.0\n",
       "2   vehicle_3  2024-06-20 12:57:59.306000-07:00   25.0    4583.9        45.0\n",
       "3  vehicle_10  2024-07-24 18:04:23.776000-07:00   36.2    1434.7        73.0\n",
       "4  vehicle_11         2024-07-06 11:08:03-07:00   29.5    4583.9        73.0"
      ]
     },
     "execution_count": 212,
     "metadata": {},
     "output_type": "execute_result"
    }
   ],
   "source": [
    "\n",
    "telemetry.head()"
   ]
  },
  {
   "cell_type": "code",
   "execution_count": 213,
   "id": "ab352a22",
   "metadata": {},
   "outputs": [
    {
     "data": {
      "text/plain": [
       "vehicle_id    0\n",
       "timestamp     0\n",
       "speed         0\n",
       "odometer      0\n",
       "fuel_level    0\n",
       "dtype: int64"
      ]
     },
     "execution_count": 213,
     "metadata": {},
     "output_type": "execute_result"
    }
   ],
   "source": [
    "telemetry.isna().sum()"
   ]
  },
  {
   "cell_type": "code",
   "execution_count": 214,
   "id": "acc47e12",
   "metadata": {},
   "outputs": [
    {
     "data": {
      "text/plain": [
       "array(['vehicle_1', 'vehicle_2', 'vehicle_3', 'vehicle_4', 'vehicle_5',\n",
       "       'vehicle_6', 'vehicle_7', 'vehicle_8', 'vehicle_9', 'vehicle_10',\n",
       "       'vehicle_11'], dtype=object)"
      ]
     },
     "execution_count": 214,
     "metadata": {},
     "output_type": "execute_result"
    }
   ],
   "source": [
    "#getting unique vehicle ids\n",
    "vehicles=np.array(vehicle_data['id'])\n",
    "vehicles"
   ]
  },
  {
   "cell_type": "code",
   "execution_count": 215,
   "id": "7d979130",
   "metadata": {},
   "outputs": [
    {
     "name": "stdout",
     "output_type": "stream",
     "text": [
      "Average Speeds: {'vehicle_1': 33.96409437876377, 'vehicle_2': 33.19225874867444, 'vehicle_3': 24.503906268902277, 'vehicle_4': 30.059357040229884, 'vehicle_5': 26.944201414857233, 'vehicle_6': 31.783018454559514, 'vehicle_7': 27.632328618188968, 'vehicle_8': 25.400644273472196, 'vehicle_9': 34.26525139664805, 'vehicle_10': 22.312116833522552, 'vehicle_11': 33.30135071811813}\n",
      "Average Fuel Usage: {'vehicle_1': 73.08654407766208, 'vehicle_2': 75.92625084353611, 'vehicle_3': 71.74173138806223, 'vehicle_4': 67.76364942528735, 'vehicle_5': 73.56353984036879, 'vehicle_6': 73.00480694881179, 'vehicle_7': 73.08403983390971, 'vehicle_8': 71.0752694897938, 'vehicle_9': 70.5997968511935, 'vehicle_10': 69.89010217772731, 'vehicle_11': 72.72866146528901}\n"
     ]
    }
   ],
   "source": [
    "# Initialize the dictionary to store speeds for each vehicle\n",
    "speed_map = {vehicle: [] for vehicle in vehicles}\n",
    "fuel_usage={vehicle: [] for vehicle in vehicles}\n",
    "for vehicle in vehicles:\n",
    "    speeds = telemetry[telemetry['vehicle_id'] == vehicle]['speed']\n",
    "    fuels=telemetry[telemetry['vehicle_id'] == vehicle]['fuel_level']\n",
    "    speed_map[vehicle] = list(speeds)\n",
    "    fuel_usage[vehicle]=list(fuels)\n",
    "\n",
    "# Calculate the average speed for each vehicle\n",
    "average_speeds = {vehicle: np.mean(speeds) for vehicle, speeds in speed_map.items()}\n",
    "average_fuels={vehicle: np.mean(fuels_use) for vehicle, fuels_use in fuel_usage.items()}\n",
    "print(\"Average Speeds:\", average_speeds)\n",
    "print('Average Fuel Usage:',average_fuels)"
   ]
  },
  {
   "cell_type": "markdown",
   "id": "714ce941",
   "metadata": {},
   "source": [
    "## Analysing Data based on visualisation"
   ]
  },
  {
   "cell_type": "code",
   "execution_count": 216,
   "id": "1ad79e05",
   "metadata": {},
   "outputs": [
    {
     "data": {
      "image/png": "[encoded data removed]",
      "text/plain": [
       "<Figure size 640x480 with 1 Axes>"
      ]
     },
     "metadata": {},
     "output_type": "display_data"
    }
   ],
   "source": [
    "#plotting the vehicle with its corresponding average speeds\n",
    "vehicle_ids=list(average_speeds.keys())\n",
    "avg_speed=list(average_speeds.values())\n",
    "plt.bar(vehicle_ids,avg_speed,color='blue')\n",
    "plt.title('Vehicles with their average speeds')\n",
    "plt.xlabel('Vehicles')\n",
    "plt.ylabel('Average Speed (Miles/hr)')\n",
    "plt.xticks(vehicle_ids,rotation=90)\n",
    "plt.show()"
   ]
  },
  {
   "cell_type": "markdown",
   "id": "8d08861b",
   "metadata": {},
   "source": [
    "### This plot clearly shows that the average speed of vehicle 10 is the least thus maintaining a safe speed limit i.e., even lesser than 25 miles/hour, while the vehicle 1 and 9 is driving at a high speed of around 24 miles/hr. While on an average most of the vehicles are driving at 25-30 miles/hour"
   ]
  },
  {
   "cell_type": "code",
   "execution_count": 217,
   "id": "cbb8f2f9",
   "metadata": {},
   "outputs": [
    {
     "data": {
      "image/png": "[encoded data removed]",
      "text/plain": [
       "<Figure size 640x480 with 1 Axes>"
      ]
     },
     "metadata": {},
     "output_type": "display_data"
    }
   ],
   "source": [
    "vehicle_ids=list(average_fuels.keys())\n",
    "avg_fuel=list(average_fuels.values())\n",
    "plt.plot(vehicle_ids,avg_fuel,color='green')\n",
    "plt.title('Vehicles with their average fuel usage')\n",
    "plt.xlabel('Vehicles')\n",
    "plt.ylabel('Average Percent of Fuel Used (Gallons)')\n",
    "plt.xticks(vehicle_ids,rotation=90)\n",
    "plt.grid(True)\n",
    "plt.show()"
   ]
  },
  {
   "cell_type": "markdown",
   "id": "a46d38ce",
   "metadata": {},
   "source": [
    "### This plot represents that the fuel consumed by vehicle 4 is the least, even lesser than 68%  while vehicle 2 consumes the maximum fuel around 76% of fuel."
   ]
  },
  {
   "cell_type": "code",
   "execution_count": 235,
   "id": "4a934277",
   "metadata": {},
   "outputs": [
    {
     "data": {
      "image/png": "[encoded data removed]",
      "text/plain": [
       "<Figure size 640x480 with 1 Axes>"
      ]
     },
     "metadata": {},
     "output_type": "display_data"
    }
   ],
   "source": [
    "# Extract values for plotting\n",
    "avg_speed = list(average_speeds.values())\n",
    "avg_fuel = list(average_fuels.values())\n",
    "plt.bar(avg_fuel, avg_speed,color='magenta')\n",
    "plt.title('Fuel Usage vs. Speed')\n",
    "plt.xlabel('Average Fuel Usage')\n",
    "plt.ylabel('Average Speed')\n",
    "plt.grid(True)\n",
    "\n",
    "plt.show()\n"
   ]
  },
  {
   "cell_type": "markdown",
   "id": "22088653",
   "metadata": {},
   "source": [
    "### The above graph shows the variation of fuel usage along with the speeds of the vehicles."
   ]
  },
  {
   "cell_type": "markdown",
   "id": "0eebf6a1",
   "metadata": {},
   "source": [
    "# Fuel Economy"
   ]
  },
  {
   "cell_type": "code",
   "execution_count": 219,
   "id": "7b87b56f",
   "metadata": {},
   "outputs": [
    {
     "data": {
      "text/html": [
       "<div>\n",
       "<style scoped>\n",
       "    .dataframe tbody tr th:only-of-type {\n",
       "        vertical-align: middle;\n",
       "    }\n",
       "\n",
       "    .dataframe tbody tr th {\n",
       "        vertical-align: top;\n",
       "    }\n",
       "\n",
       "    .dataframe thead th {\n",
       "        text-align: right;\n",
       "    }\n",
       "</style>\n",
       "<table border=\"1\" class=\"dataframe\">\n",
       "  <thead>\n",
       "    <tr style=\"text-align: right;\">\n",
       "      <th></th>\n",
       "      <th>id</th>\n",
       "      <th>datasource</th>\n",
       "      <th>tank_capacity</th>\n",
       "      <th>rated_mpg</th>\n",
       "    </tr>\n",
       "  </thead>\n",
       "  <tbody>\n",
       "    <tr>\n",
       "      <th>0</th>\n",
       "      <td>vehicle_1</td>\n",
       "      <td>source_1</td>\n",
       "      <td>18.0</td>\n",
       "      <td>35</td>\n",
       "    </tr>\n",
       "    <tr>\n",
       "      <th>1</th>\n",
       "      <td>vehicle_2</td>\n",
       "      <td>source_1</td>\n",
       "      <td>15.8</td>\n",
       "      <td>32</td>\n",
       "    </tr>\n",
       "    <tr>\n",
       "      <th>2</th>\n",
       "      <td>vehicle_3</td>\n",
       "      <td>source_2</td>\n",
       "      <td>15.8</td>\n",
       "      <td>24</td>\n",
       "    </tr>\n",
       "    <tr>\n",
       "      <th>3</th>\n",
       "      <td>vehicle_4</td>\n",
       "      <td>source_1</td>\n",
       "      <td>13.0</td>\n",
       "      <td>32</td>\n",
       "    </tr>\n",
       "    <tr>\n",
       "      <th>4</th>\n",
       "      <td>vehicle_5</td>\n",
       "      <td>source_2</td>\n",
       "      <td>23.0</td>\n",
       "      <td>22</td>\n",
       "    </tr>\n",
       "  </tbody>\n",
       "</table>\n",
       "</div>"
      ],
      "text/plain": [
       "          id datasource  tank_capacity  rated_mpg\n",
       "0  vehicle_1   source_1           18.0         35\n",
       "1  vehicle_2   source_1           15.8         32\n",
       "2  vehicle_3   source_2           15.8         24\n",
       "3  vehicle_4   source_1           13.0         32\n",
       "4  vehicle_5   source_2           23.0         22"
      ]
     },
     "execution_count": 219,
     "metadata": {},
     "output_type": "execute_result"
    }
   ],
   "source": [
    "vehicle_data.head()"
   ]
  },
  {
   "cell_type": "code",
   "execution_count": 220,
   "id": "49eabeb2",
   "metadata": {},
   "outputs": [
    {
     "data": {
      "text/plain": [
       "(11, 4)"
      ]
     },
     "execution_count": 220,
     "metadata": {},
     "output_type": "execute_result"
    }
   ],
   "source": [
    "vehicle_data.shape"
   ]
  },
  {
   "cell_type": "code",
   "execution_count": 221,
   "id": "0aecb517",
   "metadata": {},
   "outputs": [
    {
     "data": {
      "text/plain": [
       "id               0\n",
       "datasource       0\n",
       "tank_capacity    0\n",
       "rated_mpg        0\n",
       "dtype: int64"
      ]
     },
     "execution_count": 221,
     "metadata": {},
     "output_type": "execute_result"
    }
   ],
   "source": [
    "vehicle_data.isna().sum()"
   ]
  },
  {
   "cell_type": "code",
   "execution_count": 258,
   "id": "7d49cc19",
   "metadata": {},
   "outputs": [
    {
     "data": {
      "text/html": [
       "<div>\n",
       "<style scoped>\n",
       "    .dataframe tbody tr th:only-of-type {\n",
       "        vertical-align: middle;\n",
       "    }\n",
       "\n",
       "    .dataframe tbody tr th {\n",
       "        vertical-align: top;\n",
       "    }\n",
       "\n",
       "    .dataframe thead th {\n",
       "        text-align: right;\n",
       "    }\n",
       "</style>\n",
       "<table border=\"1\" class=\"dataframe\">\n",
       "  <thead>\n",
       "    <tr style=\"text-align: right;\">\n",
       "      <th></th>\n",
       "      <th>vehicle_id</th>\n",
       "      <th>timestamp</th>\n",
       "      <th>speed</th>\n",
       "      <th>odometer</th>\n",
       "      <th>fuel_level</th>\n",
       "      <th>fuel_economy</th>\n",
       "    </tr>\n",
       "  </thead>\n",
       "  <tbody>\n",
       "    <tr>\n",
       "      <th>685156</th>\n",
       "      <td>vehicle_1</td>\n",
       "      <td>2024-01-02 15:20:03+00:00</td>\n",
       "      <td>25.0</td>\n",
       "      <td>466.0</td>\n",
       "      <td>73.0</td>\n",
       "      <td>34.246575</td>\n",
       "    </tr>\n",
       "    <tr>\n",
       "      <th>97348</th>\n",
       "      <td>vehicle_1</td>\n",
       "      <td>2024-01-02 15:20:04+00:00</td>\n",
       "      <td>25.0</td>\n",
       "      <td>4583.9</td>\n",
       "      <td>100.0</td>\n",
       "      <td>25.000000</td>\n",
       "    </tr>\n",
       "    <tr>\n",
       "      <th>493341</th>\n",
       "      <td>vehicle_1</td>\n",
       "      <td>2024-01-02 15:20:22+00:00</td>\n",
       "      <td>0.0</td>\n",
       "      <td>4583.9</td>\n",
       "      <td>73.0</td>\n",
       "      <td>0.000000</td>\n",
       "    </tr>\n",
       "    <tr>\n",
       "      <th>56864</th>\n",
       "      <td>vehicle_1</td>\n",
       "      <td>2024-01-02 15:21:05+00:00</td>\n",
       "      <td>25.0</td>\n",
       "      <td>466.0</td>\n",
       "      <td>73.0</td>\n",
       "      <td>34.246575</td>\n",
       "    </tr>\n",
       "    <tr>\n",
       "      <th>181519</th>\n",
       "      <td>vehicle_1</td>\n",
       "      <td>2024-01-02 15:21:06+00:00</td>\n",
       "      <td>25.0</td>\n",
       "      <td>4583.9</td>\n",
       "      <td>100.0</td>\n",
       "      <td>25.000000</td>\n",
       "    </tr>\n",
       "    <tr>\n",
       "      <th>...</th>\n",
       "      <td>...</td>\n",
       "      <td>...</td>\n",
       "      <td>...</td>\n",
       "      <td>...</td>\n",
       "      <td>...</td>\n",
       "      <td>...</td>\n",
       "    </tr>\n",
       "    <tr>\n",
       "      <th>156743</th>\n",
       "      <td>vehicle_9</td>\n",
       "      <td>2024-07-31 23:57:26+00:00</td>\n",
       "      <td>0.0</td>\n",
       "      <td>4583.9</td>\n",
       "      <td>73.0</td>\n",
       "      <td>0.000000</td>\n",
       "    </tr>\n",
       "    <tr>\n",
       "      <th>246619</th>\n",
       "      <td>vehicle_9</td>\n",
       "      <td>2024-07-31 23:58:10+00:00</td>\n",
       "      <td>25.0</td>\n",
       "      <td>6282.0</td>\n",
       "      <td>55.0</td>\n",
       "      <td>45.454545</td>\n",
       "    </tr>\n",
       "    <tr>\n",
       "      <th>576778</th>\n",
       "      <td>vehicle_9</td>\n",
       "      <td>2024-07-31 23:58:26+00:00</td>\n",
       "      <td>0.0</td>\n",
       "      <td>4583.9</td>\n",
       "      <td>73.0</td>\n",
       "      <td>0.000000</td>\n",
       "    </tr>\n",
       "    <tr>\n",
       "      <th>255050</th>\n",
       "      <td>vehicle_9</td>\n",
       "      <td>2024-07-31 23:59:10+00:00</td>\n",
       "      <td>25.0</td>\n",
       "      <td>6282.0</td>\n",
       "      <td>55.0</td>\n",
       "      <td>45.454545</td>\n",
       "    </tr>\n",
       "    <tr>\n",
       "      <th>59317</th>\n",
       "      <td>vehicle_9</td>\n",
       "      <td>2024-07-31 23:59:26+00:00</td>\n",
       "      <td>19.7</td>\n",
       "      <td>4583.9</td>\n",
       "      <td>73.0</td>\n",
       "      <td>26.986301</td>\n",
       "    </tr>\n",
       "  </tbody>\n",
       "</table>\n",
       "<p>834563 rows × 6 columns</p>\n",
       "</div>"
      ],
      "text/plain": [
       "       vehicle_id                 timestamp  speed  odometer  fuel_level  \\\n",
       "685156  vehicle_1 2024-01-02 15:20:03+00:00   25.0     466.0        73.0   \n",
       "97348   vehicle_1 2024-01-02 15:20:04+00:00   25.0    4583.9       100.0   \n",
       "493341  vehicle_1 2024-01-02 15:20:22+00:00    0.0    4583.9        73.0   \n",
       "56864   vehicle_1 2024-01-02 15:21:05+00:00   25.0     466.0        73.0   \n",
       "181519  vehicle_1 2024-01-02 15:21:06+00:00   25.0    4583.9       100.0   \n",
       "...           ...                       ...    ...       ...         ...   \n",
       "156743  vehicle_9 2024-07-31 23:57:26+00:00    0.0    4583.9        73.0   \n",
       "246619  vehicle_9 2024-07-31 23:58:10+00:00   25.0    6282.0        55.0   \n",
       "576778  vehicle_9 2024-07-31 23:58:26+00:00    0.0    4583.9        73.0   \n",
       "255050  vehicle_9 2024-07-31 23:59:10+00:00   25.0    6282.0        55.0   \n",
       "59317   vehicle_9 2024-07-31 23:59:26+00:00   19.7    4583.9        73.0   \n",
       "\n",
       "        fuel_economy  \n",
       "685156     34.246575  \n",
       "97348      25.000000  \n",
       "493341      0.000000  \n",
       "56864      34.246575  \n",
       "181519     25.000000  \n",
       "...              ...  \n",
       "156743      0.000000  \n",
       "246619     45.454545  \n",
       "576778      0.000000  \n",
       "255050     45.454545  \n",
       "59317      26.986301  \n",
       "\n",
       "[834563 rows x 6 columns]"
      ]
     },
     "execution_count": 258,
     "metadata": {},
     "output_type": "execute_result"
    }
   ],
   "source": [
    "#assuming we have the time duration to be 1 hour\n",
    "#distance=speed*time \n",
    "#distance=speed (because time is 1 hour)\n",
    "telemetry['fuel_economy'] = telemetry['speed']*100 / (telemetry['fuel_level'])  # Fuel Economy = Distance / Fuel\n",
    "telemetry\n"
   ]
  },
  {
   "cell_type": "code",
   "execution_count": 259,
   "id": "15c409fa",
   "metadata": {},
   "outputs": [
    {
     "name": "stdout",
     "output_type": "stream",
     "text": [
      "Average Fuel Economy for each vehicle is: {'vehicle_1': 49.41, 'vehicle_2': 46.75, 'vehicle_3': 35.88, 'vehicle_4': 48.29, 'vehicle_5': 37.33, 'vehicle_6': 44.38, 'vehicle_7': 39.84, 'vehicle_8': 38.45, 'vehicle_9': 56.93, 'vehicle_10': 35.64, 'vehicle_11': 49.2}\n"
     ]
    }
   ],
   "source": [
    "fuel_economy_map= {vehicle: [] for vehicle in vehicles}\n",
    "for vehicle in vehicles:\n",
    "    fuel_eco = telemetry[telemetry['vehicle_id'] == vehicle]['fuel_economy']\n",
    "    fuel_economy_map[vehicle] = list(fuel_eco)\n",
    "\n",
    "average_fuel_eco={vehicle: round(np.mean(fuels_eco),2) for vehicle, fuels_eco in fuel_economy_map.items()}\n",
    "print('Average Fuel Economy for each vehicle is:',average_fuel_eco)"
   ]
  },
  {
   "cell_type": "code",
   "execution_count": 260,
   "id": "247474ff",
   "metadata": {},
   "outputs": [
    {
     "data": {
      "text/plain": [
       "0     35\n",
       "1     32\n",
       "2     24\n",
       "3     32\n",
       "4     22\n",
       "5     56\n",
       "6     21\n",
       "7     21\n",
       "8     24\n",
       "9     21\n",
       "10    35\n",
       "Name: rated_mpg, dtype: int64"
      ]
     },
     "execution_count": 260,
     "metadata": {},
     "output_type": "execute_result"
    }
   ],
   "source": [
    "rated_mpg=vehicle_data['rated_mpg']\n",
    "rated_mpg"
   ]
  },
  {
   "cell_type": "code",
   "execution_count": 261,
   "id": "f0328385",
   "metadata": {},
   "outputs": [
    {
     "data": {
      "text/plain": [
       "[35, 32, 24, 32, 22, 56, 21, 21, 24, 21, 35]"
      ]
     },
     "execution_count": 261,
     "metadata": {},
     "output_type": "execute_result"
    }
   ],
   "source": [
    "rated_mpg = [vehicle_data.loc[vehicle_data['id'] == vehicle, 'rated_mpg'].values[0] for vehicle in vehicles]\n",
    "\n",
    "rated_mpg"
   ]
  },
  {
   "cell_type": "code",
   "execution_count": 262,
   "id": "8d8ddf23",
   "metadata": {},
   "outputs": [
    {
     "data": {
      "text/plain": [
       "[49.41, 46.75, 35.88, 48.29, 37.33, 44.38, 39.84, 38.45, 56.93, 35.64, 49.2]"
      ]
     },
     "execution_count": 262,
     "metadata": {},
     "output_type": "execute_result"
    }
   ],
   "source": [
    "actual_fuel_economy=[]\n",
    "for vehicle in average_fuel_eco:\n",
    "    actual_fuel_economy.append(average_fuel_eco[vehicle])\n",
    "actual_fuel_economy"
   ]
  },
  {
   "cell_type": "code",
   "execution_count": 263,
   "id": "5e56edb1",
   "metadata": {},
   "outputs": [
    {
     "data": {
      "image/png": "[encoded data removed]",
      "text/plain": [
       "<Figure size 640x480 with 1 Axes>"
      ]
     },
     "metadata": {},
     "output_type": "display_data"
    }
   ],
   "source": [
    "\n",
    "\n",
    "# Plot actual vs. rated MPG\n",
    "plt.plot(actual_fuel_economy, label='Actual Fuel Economy', marker='o')\n",
    "plt.plot(rated_mpg, label='Rated MPG', marker='o')\n",
    "\n",
    "# Add labels and title\n",
    "plt.title('Actual Fuel Economy vs. Rated MPG')\n",
    "plt.xlabel('Vehicle Index')\n",
    "plt.ylabel('Fuel Economy (MPG)')\n",
    "plt.legend()\n",
    "plt.grid(True)\n",
    "plt.show()"
   ]
  },
  {
   "cell_type": "code",
   "execution_count": null,
   "id": "afa0c76f",
   "metadata": {},
   "outputs": [],
   "source": []
  }
 ],
 "metadata": {
  "kernelspec": {
   "display_name": "Python 3 (ipykernel)",
   "language": "python",
   "name": "python3"
  },
  "language_info": {
   "codemirror_mode": {
    "name": "ipython",
    "version": 3
   },
   "file_extension": ".py",
   "mimetype": "text/x-python",
   "name": "python",
   "nbconvert_exporter": "python",
   "pygments_lexer": "ipython3",
   "version": "3.11.4"
  }
 },
 "nbformat": 4,
 "nbformat_minor": 5
}
